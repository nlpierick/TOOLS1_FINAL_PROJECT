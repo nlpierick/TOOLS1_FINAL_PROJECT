{
 "cells": [
  {
   "cell_type": "markdown",
   "id": "6997e1ad",
   "metadata": {},
   "source": [
    "# Data Science Tools 1 - Final Project \n",
    "\n",
    "## Wildfire Dataset\n",
    "\n",
    "#### Nicole Pierick & Elizabeth Bob\n",
    "\n"
   ]
  },
  {
   "cell_type": "markdown",
   "id": "16c68e49",
   "metadata": {},
   "source": [
    "## Import Packages & Libraries"
   ]
  },
  {
   "cell_type": "code",
   "execution_count": null,
   "id": "5a652de0",
   "metadata": {},
   "outputs": [],
   "source": [
    "import pandas as pd\n",
    "import plotly.express as px\n",
    "import numpy as np\n",
    "import missingno as msno\n",
    "import datetime as dt\n",
    "import seaborn as sns\n",
    "import matplotlib.pyplot as plt\n",
    "import folium\n",
    "from folium.plugins import HeatMap\n",
    "from sklearn.preprocessing import OrdinalEncoder\n",
    "from sklearn.impute import KNNImputer"
   ]
  },
  {
   "cell_type": "markdown",
   "id": "865901f5",
   "metadata": {},
   "source": [
    "## Load the Dataset\n",
    "WFIGS - Current Wildland Fire Perimeters Dataset from the Wildland Fire Interagency Geospatial Services (WFIGS) Group and National Interagency Fire Center "
   ]
  },
  {
   "cell_type": "code",
   "execution_count": null,
   "id": "5a36b499",
   "metadata": {},
   "outputs": [],
   "source": [
    "pd.set_option('display.max_columns', None)\n",
    "pd.set_option('display.max_rows', None)\n",
    "data = pd.read_csv(\"WFIGS_Wildland_Fire_Perimeters_Full_History.csv\", sep = \",\", dtype ='unicode')"
   ]
  },
  {
   "cell_type": "markdown",
   "id": "95a64695",
   "metadata": {},
   "source": [
    "## Describe & Display the Dataset"
   ]
  },
  {
   "cell_type": "markdown",
   "id": "3dc4bbcc",
   "metadata": {},
   "source": [
    "The wildfire dataset utilized in the following analysis was created by the National Interagency Fire Center. The dataset contains 108 columns and 13555 rows, with each row representing a distinct wildfire between 2021-2022. The attributes encompass geographic, time, and monitoring/administrative information, as well as characteristics of the fire. \n",
    "\n",
    "Wildfire Dataset Attributes\n",
    "<ul>\n",
    "    <li><b>Incident Name (Polygon) </b>The Incident Name from the source polygon.</li>\n",
    "<li><b>Feature Category </b>Type of wildland fire perimeter.</li>\n",
    "<li><b>Map Method </b>Controlled vocabulary to define how the source polygon was derived. Map Method may help define data quality.</li>\n",
    "<li><b>GIS Acres </b>User-calculated acreage.</li>\n",
    "<li><b>Polygon Create Date </b>System field. Time stamp for the source polygon feature creation.</li>\n",
    "<li><b>Polygon Modified Date </b>System field. Time stamp for the most recent edit to the source polygon feature.</li>\n",
    "<li><b>Polygon Collection Date Time </b>Date time for the source polygon feature collection.</li>\n",
    "<li><b>Acres Auto Calculated </b>Automated calculation of the source polygon acreage.</li>\n",
    "<li><b>Polygon Source </b>Data source of the perimeter geometry.</li>\n",
    "<li><b>ABCD Misc </b>A FireCode used by USDA FS to track and compile cost information for emergency initial attack fire suppression expenditures. for A, B, C & D size class fires on FS lands.</li>\n",
    "<li><b>ADS Permission State </b>Indicates the permission hierarchy that is currently being applied when a system utilizes the UpdateIncident operation.</li>\n",
    "<li><b>IRWIN Archived On </b>\"A date set by IRWIN that indicates when an incident's data has met the rules defined for the record to become part of the historical fire records rather than an operational incident record.  The value will be set the current date/time if any of the following criteria are met: \n",
    "1.  ContainmentDataTime or ControlDateTime or FireOutDateTime or ModifiedOnDateTime > 12 months from the current DateTime\n",
    "2.  FinalFireReportDate is not null and ADSPermissionState is 'certified'.\"</li>\n",
    "<li><b>Calculated Acres </b>A measure of acres calculated (i.e., infrared) from a geospatial perimeter of a fire.  More specifically, the number of acres within the current perimeter of a specific, individual incident, including unburned and unburnable islands.  The minimum size must be 0.1.</li>\n",
    "<li><b>Containment Date Time </b>The date and time a wildfire was declared contained.</li>\n",
    "<li><b>Control Date Time </b>The date and time a wildfire was declared under control.</li>\n",
    "<li><b>Created By System </b>ArcGIS Server Username of system that created the IRWIN Incident record.</li>\n",
    "<li><b>IRWIN Created On Date Time </b>Date/time that the IRWIN Incident record was created.</li>\n",
    "<li><b>Incident Size </b>\"A measure of acres reported for a fire.  More specifically, the number of acres within the current perimeter of a specific, individual incident, including unburned and unburnable islands.  The minimum size must be 0.1.\n",
    "*Field name irwin_DailyAcres. Data from IRWIN IncidentSize field.\"</li>\n",
    "<li><b>Discovery Acres </b>An estimate of acres burning upon the discovery of the fire. More specifically when the fire is first reported by the first person that calls in the fire.  The estimate should include number of acres within the current perimeter of a specific, individual incident, including unburned and unburnable islands.</li>\n",
    "<li><b>Dispatch Center ID </b>A unique identifier for a dispatch center responsible for supporting the incident.</li>\n",
    "<li><b>Final Fire Report Approved By Title </b>The title of the person that approved the final fire report for the incident.</li>\n",
    "<li><b>Final Fire Report Approved By Unit </b>NWCG Unit ID associated with the individual who approved the final report for the incident.</li>\n",
    "<li><b>Final Fire Report Approved Date </b>The date that the final fire report was approved for the incident.</li>\n",
    "<li><b>Fire Behavior General </b>A general category describing the manner in which the fire is currently reacting to the influences of fuel, weather, and topography.</li>\n",
    "<li><b>Fire Behavior General 1 </b>A more specific category further describing the general fire behavior (manner in which the fire is currently reacting to the influences of fuel, weather, and topography).</li>\n",
    "<li><b>Fire Behavior General 2 </b>A more specific category further describing the general fire behavior (manner in which the fire is currently reacting to the influences of fuel, weather, and topography).</li>\n",
    "<li><b>Fire Behavior General 3 </b>A more specific category further describing the general fire behavior (manner in which the fire is currently reacting to the influences of fuel, weather, and topography).</li>\n",
    "<li><b>Fire Cause </b>Broad classification of the reason the fire occurred identified as human, natural or unknown.</li>\n",
    "<li><b>Fire Cause General </b>Agency or circumstance which started a fire or set the stage for its occurrence; source of a fire's ignition. For statistical purposes, fire causes are further broken into specific causes.</li>\n",
    "<li><b>Fire Cause Specific </b>A further categorization of each General Fire Cause to indicate more specifically the agency or circumstance which started a fire or set the stage for its occurrence; source of a fire's ignition.</li>\n",
    "<li><b>Fire Code </b>A code used within the interagency wildland fire community to track and compile cost information for emergency fire suppression expenditures for the incident.</li>\n",
    "<li><b>Fire Department ID </b>The U.S. Fire Administration (USFA) has created a national database of Fire Departments.  Most Fire Departments do not have an NWCG Unit ID and so it is the intent of the IRWIN team to create a new field that includes this data element to assist the National Association of State Foresters (NASF) with data collection.</li>\n",
    "<li><b>Fire Discovery Date Time </b>The date and time a fire was reported as discovered or confirmed to exist.  May also be the start date for reporting purposes.</li>\n",
    "<li><b>Fire Mgmt Complexity </b>The highest management level utilized to manage a wildland fire event.</li>\n",
    "<li><b>Fire Out Date Time </b>The date and time when a fire is declared out.</li>\n",
    "<li><b>Fire Strategy Confine Percent </b>Indicates the percentage of the incident area where the fire suppression strategy of \"Confine\" is being implemented.</li>\n",
    "<li><b>Fire Strategy Full Supp Percent </b>Indicates the percentage of the incident area where the fire suppression strategy of \"Full Suppression\" is being implemented.</li>\n",
    "<li><b>Fire Strategy Monitor Percent </b>Indicates the percentage of the incident area where the fire suppression strategy of \"Monitor\" is being implemented.</li>\n",
    "<li><b>Fire Strategy Point Zone Percent </b>Indicates the percentage of the incident area where the fire suppression strategy of \"Point Zone Protection\" is being implemented.</li>\n",
    "<li><b>FS Job Code </b>A code use to indicate the Forest Service job accounting code for the incident.  This is specific to the Forest Service.  Usually displayed as 2 char prefix on FireCode.</li>\n",
    "<li><b>FS Override Code </b>A code used to indicate the Forest Service override code for the incident.  This is specific to the Forest Service.  Usually displayed as a 4 char suffix on FireCode.  For example, if the FS is assisting DOI, an override of 1502 will be used.</li>\n",
    "<li><b>GACC </b>\"A code that identifies one of the wildland fire geographic area coordination center at the point of origin for the incident.\n",
    "A geographic area coordination center is a facility that is used for the coordination of agency or jurisdictional resources in support of one or more incidents within a geographic coordination area.\"</li>\n",
    "<li><b>ICS 209 Report Date Time </b>The date and time of the latest approved ICS-209 report.</li>\n",
    "<li><b>ICS 209 Report For Time Period From </b>The date and time of the beginning of the time period for the current ICS-209 submission.</li>\n",
    "<li><b>ICS 209 Report For Time Period To </b>The date and time of the end of the time period for the current ICS-209 submission.</li>\n",
    "<li><b>ICS 209 Report Status </b>The version of the ICS-209 report (initial, update, or final). There should never be more than one initial report, but there can be numerous updates, and even multiple finals (as determined by business rules).</li>\n",
    "<li><b>Incident Management Organization </b>The incident management organization for the incident, which may be a Type 1, 2, or 3 Incident Management Team (IMT), a Unified Command, a Unified Command with an IMT, National Incident Management Organization (NIMO), etc.  This field is null if no team is assigned.</li>\n",
    "<li><b>Incident Name </b>The name assigned to an incident.</li>\n",
    "<li><b>Incident Short Description </b>General descriptive location of the incident such as the number of miles from an identifiable town.</li>\n",
    "<li><b>Incident Type Category </b>The Event Category is a sub-group of the Event Kind code and description. The Event Category further breaks down the Event Kind into more specific event categories.</li>\n",
    "<li><b>Incident Type Kind </b>A general, high-level code and description of the types of incidents and planned events to which the interagency wildland fire community responds.</li>\n",
    "<li><b>Initial Latitude </b>The latitude location of the initial reported point of origin specified in decimal degrees.</li>\n",
    "<li><b>Initial Longitude </b>The longitude location of the initial reported point of origin specified in decimal degrees.</li>\n",
    "<li><b>Initial Response Acres </b>An estimate of acres burning at the time of initial response. More specifically when the IC arrives and performs initial size up.  The minimum size must be 0.1.  The estimate should include number of acres within the current perimeter of a specific, individual incident, including unburned and unburnable islands.</li>\n",
    "<li><b>Initial Response Date Time </b>The date/time of the initial response to the incident. More specifically when the IC arrives and performs initial size up.</li>\n",
    "<li><b>IRWIN ID </b>Unique identifier assigned to each incident record in IRWIN.</li>\n",
    "<li><b>Is Dispatch Complete </b>\"An indicator used by external systems to indicate if the criteria has been met to close an incident in their system. \n",
    "OR\n",
    "Value of true indicates that the incident record is ready for a fire reporting system to complete and certify the final fire report.  This field can be set by a CAD or Ordering system.\"</li>\n",
    "<li><b>Is Fire Cause Investigated </b>Indicates if an investigation is underway or was completed to determine the cause of a fire.</li>\n",
    "<li><b>Is FS Assisted </b>Indicates if the Forest Service provided assistance on an incident outside their jurisdiction.</li>\n",
    "<li><b>Is Multi Jurisdictional </b>Indicates if the incident covers multiple jurisdictions.</li>\n",
    "<li><b>Is Reimbursable </b>Indicates the cost of an incident may be another agency’s responsibility.</li>\n",
    "<li><b>Is Trespass </b>Indicates if the incident is a trespass claim or if a bill will be pursued.</li>\n",
    "<li><b>Is Unified Command </b>Indicates whether the incident is being managed under Unified Command.  Unified Command is an application of the Incident Command System used when there is more than one agency with incident jurisdiction or when incidents cross political jurisdictions. Under Unified Command, agencies work together through their designated Incident Commanders at a single incident command post to establish common objectives and issue a single Incident Action Plan.</li>\n",
    "<li><b>Local Incident Identifier </b>A number or code that uniquely identifies an incident for a particular local fire management organization within a particular calendar year.</li>\n",
    "<li><b>Modified By System </b>ArcGIS Server username of system that last modified the IRWIN Incident record.</li>\n",
    "<li><b>IRWIN Modified On Date Time </b>Date/time that the IRWIN Incident record was last modified.</li>\n",
    "<li><b>Organizational Assessment </b>The Organizational Assessment is part of the Wildland Fire Risk and Complexity Assessment (RCA) that was implemented by NWCG in January 2014, which guides Agency Administrators in their management organization selection, both in escalating and moderating situations.  The Organizational Assessment can be compared with the current Incident Management Organization and many other incident level data elements over the life of the fire. It may not always match the current Incident Management Organization value. The authority for producing the Organizational Assessment lies with the incident commander (NWCG PMS-210), thus, the Organizational Assessment can change independent of the published decision.</li>\n",
    "<li><b>Percent Contained </b>Indicates the percent of incident area that is no longer active.  Reference definition in fire line handbook when developing standard.</li>\n",
    "<li><b>Percent Perimeter To Be Contained </b>Indicates the percent of perimeter left to be completed. This entry is appropriate for full suppression, point/zone protection, and confine fires, or any combination of these strategies. This entry is not used for wildfires managed entirely under a monitor strategy.  (Note: Value is not currently being passed by ICS-209)</li>\n",
    "<li><b>POO City </b>The closest city to the incident point of origin.</li>\n",
    "<li><b>POO County </b>The County Name identifying the county or equivalent entity at point of origin designated at the time of collection.</li>\n",
    "<li><b>POO Dispatch Center ID </b>A unique identifier for the dispatch center that intersects with the incident point of origin.</li>\n",
    "<li><b>POO Fips </b>The code which uniquely identifies counties and county equivalents.  The first two digits are the FIPS State code and the last three are the county code within the state.</li>\n",
    "<li><b>POO Jurisdictional Agency </b>The agency having land and resource management responsibility for a incident as provided by federal, state or local law.</li>\n",
    "<li><b>POO Jurisdictional Unit </b>NWCG Unit Identifier to identify the unit with jurisdiction for the land where the point of origin of a fire falls.</li>\n",
    "<li><b>POO Jurisdictional Unit Parent Unit </b>The unit ID for the parent entity, such as a BLM State Office or USFS Regional Office, that resides over the Jurisdictional Unit.</li>\n",
    "<li><b>POO Landowner Category </b>More specific classification of land ownership within land owner kinds identifying the deeded owner at the point of origin at the time of the incident.</li>\n",
    "<li><b>POO Landowner Kind </b>Broad classification of land ownership identifying the deeded owner at the point of origin at the time of the incident.</li>\n",
    "<li><b>POO Legal Desc Principal Meridian </b>The principal meridian of the legal description (section, township, range) of the incident at point of origin.</li>\n",
    "<li><b>POO Legal Desc Qtr </b>The quarter section of the legal description (section, township, range) of the incident at point of origin.</li>\n",
    "<li><b>POO Legal Desc Qtr Qtr </b>The quarter/quarter section of the legal description (section, township, range) of the incident at point of origin.</li>\n",
    "<li><b>POO Legal Desc Range </b>The range of the legal description (section, township, range) of the incident at point of origin.</li>\n",
    "<li><b>POO Legal Desc Section </b>The section of the legal description (section, township, range) of the incident at point of origin.</li>\n",
    "<li><b>POO Legal Desc Township </b>The township of the legal description (section, township, range) of the incident at point of origin.</li>\n",
    "<li><b>POO Predictive Service Area ID </b>The predictive service area ID where the incidents point of origin is location.  Predictive Service Areas (PSAs) are geographic areas of similar climate based on statistical correlation of Remote Automated Weather Stations (RAWS) data.</li>\n",
    "<li><b>POO Protecting Agency </b>Indicates the agency that has protection responsibility at the point of origin.</li>\n",
    "<li><b>POO Protecting Unit </b>\"NWCG Unit responsible for providing direct incident management and services to a an incident pursuant to its jurisdictional responsibility or as specified by law, contract or agreement.                                                                                                               Definition Extension:\n",
    " - Protection can be re-assigned by agreement.\n",
    " - The nature and extent of the incident determines protection (for example Wildfire vs. All Hazard.)\"</li>\n",
    "<li><b>POO State </b>The State alpha code identifying the state or equivalent entity at point of origin.</li>\n",
    "<li><b>Predominant Fuel Group </b>The fuel majority fuel model type that best represents fire behavior in the incident area, grouped into one of seven categories.</li>\n",
    "<li><b>Predominant Fuel Model </b>Describes the type of fuels found within the  majority of the incident area.</li>\n",
    "<li><b>Primary Fuel Model </b>The fuel model which best represents the primary carrier of the fire for the reporting period.</li>\n",
    "<li><b>Secondary Fuel Model </b>The fuel model which best represents the secondary carrier of the fire for the reporting period.</li>\n",
    "<li><b>Strategic Decision Publish Date </b>The Decision Publish Date represents the date Agency Administrators published (approved) the Strategic Decision document. New decisions can be created and published at any time until the incident has been called out.</li>\n",
    "<li><b>Total Incident Personnel </b>The total number of personnel assigned. Includes overhead, crewmembers, helicopter crewmember, engine crewmembers, camp crew people, etc.</li>\n",
    "<li><b>Unique Fire Identifier </b>Unique identifier assigned to each wildland fire.  yyyy = calendar year, SSUUUU = POO protecting unit identifier (5 or 6 characters), xxxxxx = local incident identifier (6 to 10 characters)</li>\n",
    "<li><b>WFDSS Decision Status </b>Indicates the state of the WFDSS decision and/or if a WFDSS decision has been approved for the incident.  This information is helpful in resolving conflicts between incident records.</li>\n",
    "<li><b>Is Part of Complex </b>Indicates whether the incident is part of a Complex or not. \"0\" for no, \"1\" for yes.</li>\n",
    "<li><b>Complex Name </b>The Incident Name of the Complex that is the parent of the incident.</li>\n",
    "<li><b>Complex ID </b>The IRWIN ID for the Complex record that is the parent of the incident.</li>\n",
    "</ul>"
   ]
  },
  {
   "cell_type": "code",
   "execution_count": null,
   "id": "9c1dc9a2",
   "metadata": {},
   "outputs": [],
   "source": [
    "data.head(20)"
   ]
  },
  {
   "cell_type": "code",
   "execution_count": null,
   "id": "3427c887",
   "metadata": {},
   "outputs": [],
   "source": [
    "# Display dataset columns, non-null counts, & data types \n",
    "data.info(verbose = True, show_counts = True)"
   ]
  },
  {
   "cell_type": "markdown",
   "id": "86e0e02d",
   "metadata": {},
   "source": [
    "The dataset contains features with many null values, as well as features that may not be relevant for the current analysis. Decisions will need to be made with respect to how the null values and unnecessary columns are handled."
   ]
  },
  {
   "cell_type": "markdown",
   "id": "75fb44bd",
   "metadata": {},
   "source": [
    "## Cleaning the Dataset "
   ]
  },
  {
   "cell_type": "code",
   "execution_count": null,
   "id": "d42f571a",
   "metadata": {},
   "outputs": [],
   "source": [
    "# Remove leading and trailing spaces\n",
    "data.columns = data.columns.str.strip()"
   ]
  },
  {
   "cell_type": "code",
   "execution_count": null,
   "id": "bc907c16",
   "metadata": {},
   "outputs": [],
   "source": [
    "# Standardize text across rows and columns\n",
    "data = data.applymap(lambda x: x.lower().strip() if type(x) == str else x)"
   ]
  },
  {
   "cell_type": "code",
   "execution_count": null,
   "id": "2fbe710c",
   "metadata": {},
   "outputs": [],
   "source": [
    "# Check for duplicate rows\n",
    "data.duplicated().any()"
   ]
  },
  {
   "cell_type": "markdown",
   "id": "7c51b693",
   "metadata": {},
   "source": [
    "There does not appear to be any duplicate rows, thus all rows will remain in the dataset for further processing."
   ]
  },
  {
   "cell_type": "markdown",
   "id": "fc480aad",
   "metadata": {},
   "source": [
    "Null values within the dataset can be visualized in a variety of ways that each uniquely inform decisions regarding the missing values."
   ]
  },
  {
   "cell_type": "code",
   "execution_count": null,
   "id": "e26e8332",
   "metadata": {},
   "outputs": [],
   "source": [
    "# Visualize null values as matrix\n",
    "msno.matrix(data);"
   ]
  },
  {
   "cell_type": "code",
   "execution_count": null,
   "id": "21e75aca",
   "metadata": {},
   "outputs": [],
   "source": [
    "# Visualize null values as bar plot\n",
    "msno.bar(data);"
   ]
  },
  {
   "cell_type": "code",
   "execution_count": null,
   "id": "e66c8ee8",
   "metadata": {},
   "outputs": [],
   "source": [
    "# Visualize null values as dendrogram\n",
    "msno.dendrogram(data);"
   ]
  },
  {
   "cell_type": "markdown",
   "id": "3c4c1ba0",
   "metadata": {},
   "source": [
    "Several strategies will be utilized to reduce the number of null values and columns in the dataset."
   ]
  },
  {
   "cell_type": "code",
   "execution_count": null,
   "id": "f224f86d",
   "metadata": {
    "scrolled": true
   },
   "outputs": [],
   "source": [
    "# Drop columns where 75% or more of the values are missing\n",
    "data = data.dropna(thresh = 0.75*len(data), axis = 1)\n",
    "print(data.sample(10))"
   ]
  },
  {
   "cell_type": "code",
   "execution_count": null,
   "id": "08e3dcef",
   "metadata": {},
   "outputs": [],
   "source": [
    "# Drop columns that are not relevant for the current analysis\n",
    "data = data.drop(data.columns[np.r_[0, 2:4, 5:7, 8:11, 15, 19, 21:23, 25:40, 41:50]], axis=1)"
   ]
  },
  {
   "cell_type": "markdown",
   "id": "b53d2fd6",
   "metadata": {},
   "source": [
    "The dataset contains two pairs of columns wherein the columns in the pair reflect the same information. It is not necessary to retain redundant columns, thus the columns will need to be evaluated in order to determine which column in each pair is appropriate to drop."
   ]
  },
  {
   "cell_type": "code",
   "execution_count": null,
   "id": "86e79454",
   "metadata": {},
   "outputs": [],
   "source": [
    "# Dataset contains two features reflecting the incident name\n",
    "# irwin_IncidentName contains fewer null values\n",
    "# If irwin_IncidentName is null and poly_IncidentName is populated, add the value to irwin_IncidentName\n",
    "\n",
    "data['irwin_IncidentName'] = data['irwin_IncidentName'].fillna(data['poly_IncidentName'])"
   ]
  },
  {
   "cell_type": "code",
   "execution_count": null,
   "id": "f5f1d280",
   "metadata": {},
   "outputs": [],
   "source": [
    "# Check for null values in irwin_IncidentName\n",
    "data['irwin_IncidentName'].isnull().sum()"
   ]
  },
  {
   "cell_type": "markdown",
   "id": "60683d15",
   "metadata": {},
   "source": [
    "There are no longer any missing values for the wildfire incident names. "
   ]
  },
  {
   "cell_type": "code",
   "execution_count": null,
   "id": "28e7ceda",
   "metadata": {},
   "outputs": [],
   "source": [
    "# Drop poly_IncidentName\n",
    "data = data.drop('poly_IncidentName', axis = 1)"
   ]
  },
  {
   "cell_type": "code",
   "execution_count": null,
   "id": "67282847",
   "metadata": {},
   "outputs": [],
   "source": [
    "# Dataset contains two features reflecting acreage and the values do not always align\n",
    "# poly_Acres_AutoCalc contains fewer null values and is an automated calculation of the source polygon acreage\n",
    "# poly_GISAcres is user-calculated acreage\n",
    "# If poly_Acres_AutoCalc is null and poly_GISAcres is populated, add the value to poly_Acres_AutoCalc\n",
    "\n",
    "data['poly_Acres_AutoCalc'] = data['poly_Acres_AutoCalc'].fillna(data['poly_GISAcres'])"
   ]
  },
  {
   "cell_type": "code",
   "execution_count": null,
   "id": "f88dc768",
   "metadata": {},
   "outputs": [],
   "source": [
    "# Check for null values in poly_Acres_AutoCalc\n",
    "data['poly_Acres_AutoCalc'].isnull().sum()"
   ]
  },
  {
   "cell_type": "markdown",
   "id": "e9292f8b",
   "metadata": {},
   "source": [
    "There a some remaining null values, however these will be addressed later on. "
   ]
  },
  {
   "cell_type": "code",
   "execution_count": null,
   "id": "9aa35b87",
   "metadata": {},
   "outputs": [],
   "source": [
    "# Drop poly_GISAcres\n",
    "data = data.drop('poly_GISAcres', axis = 1)"
   ]
  },
  {
   "cell_type": "markdown",
   "id": "aa7c1b01",
   "metadata": {},
   "source": [
    "The remaining null values in the dataset columns relevant for analysis will be remedied using K-nearest neighbors imputation."
   ]
  },
  {
   "cell_type": "code",
   "execution_count": null,
   "id": "0ee534dc",
   "metadata": {},
   "outputs": [],
   "source": [
    "# Encode categorical variables with null values for KNN imputation\n",
    "oe = OrdinalEncoder(handle_unknown = 'use_encoded_value', unknown_value = np.nan)\n",
    "data['irwin_FireCause'] = oe.fit_transform(data[['irwin_FireCause']])  "
   ]
  },
  {
   "cell_type": "code",
   "execution_count": null,
   "id": "a1205b24",
   "metadata": {},
   "outputs": [],
   "source": [
    "# Impute missing values using K-Nearest Neighbors\n",
    "imputer = KNNImputer(n_neighbors = 5)\n",
    "\n",
    "data['poly_Acres_AutoCalc'] = imputer.fit_transform(data[['poly_Acres_AutoCalc']])\n",
    "data['irwin_DailyAcres'] = imputer.fit_transform(data[['irwin_DailyAcres']])\n",
    "data['irwin_DiscoveryAcres'] = imputer.fit_transform(data[['irwin_DiscoveryAcres']])\n",
    "data['irwin_FireCause'] = imputer.fit_transform(data[['irwin_FireCause']])\n",
    "\n",
    "print(data.sample(10))"
   ]
  },
  {
   "cell_type": "code",
   "execution_count": null,
   "id": "1621bdbd",
   "metadata": {},
   "outputs": [],
   "source": [
    "# Inverse encoding to recover categorical values\n",
    "data['irwin_FireCause'] = oe.inverse_transform(data[['irwin_FireCause']])  "
   ]
  },
  {
   "cell_type": "code",
   "execution_count": null,
   "id": "85857c21",
   "metadata": {},
   "outputs": [],
   "source": [
    "# Modify data types\n",
    "\n",
    "# Convert appropriate columns to string\n",
    "data[['irwin_FireCause', 'irwin_IncidentName', 'irwin_POOState']] = data[['irwin_FireCause', \n",
    "    'irwin_IncidentName', 'irwin_POOState']].astype('string')\n",
    "\n",
    "# Convert appropriate columns to float\n",
    "data[['poly_Acres_AutoCalc', 'irwin_DailyAcres', 'irwin_DiscoveryAcres', 'irwin_InitialLatitude',\n",
    "    'irwin_InitialLongitude', 'SHAPE_Length', 'SHAPE_Area']] = data[['poly_Acres_AutoCalc', \n",
    "    'irwin_DailyAcres', 'irwin_DiscoveryAcres', 'irwin_InitialLatitude', 'irwin_InitialLongitude', \n",
    "    'SHAPE_Length', 'SHAPE_Area']].astype('float64')\n",
    "\n",
    "# Convert appropriate columns to datetime\n",
    "data[['irwin_ContainmentDateTime', 'irwin_ControlDateTime', 'irwin_FireDiscoveryDateTime', \n",
    "    'irwin_FireOutDateTime']] = data[['irwin_ContainmentDateTime', 'irwin_ControlDateTime', \n",
    "    'irwin_FireDiscoveryDateTime', 'irwin_FireOutDateTime']].apply(pd.to_datetime, \n",
    "    format = '%Y-%m-%dT%H:%M:%S.%f%z')"
   ]
  },
  {
   "cell_type": "code",
   "execution_count": null,
   "id": "78c440e2",
   "metadata": {},
   "outputs": [],
   "source": [
    "# Display modifed data types\n",
    "data.dtypes"
   ]
  },
  {
   "cell_type": "markdown",
   "id": "fd44b697",
   "metadata": {},
   "source": [
    "## Feature Engineering"
   ]
  },
  {
   "cell_type": "markdown",
   "id": "cf0d511b",
   "metadata": {},
   "source": [
    "New features will be created from existing features in the dataset to support additional analysis."
   ]
  },
  {
   "cell_type": "code",
   "execution_count": null,
   "id": "15839a15",
   "metadata": {},
   "outputs": [],
   "source": [
    "# Extract state from irwin_POOState and create new column\n",
    "data['State'] = data['irwin_POOState'].str.split('-').str[1]\n",
    "\n",
    "# Modify data type\n",
    "data['State'] = data[['State']].astype('string')\n",
    "\n",
    "data['State'].sample(10)"
   ]
  },
  {
   "cell_type": "code",
   "execution_count": null,
   "id": "479f5217",
   "metadata": {},
   "outputs": [],
   "source": [
    "# Calculate duration of fire in days and create new column \n",
    "data['fire_Duration'] = data['irwin_ControlDateTime'] - data['irwin_FireDiscoveryDateTime']\n",
    "data['fire_Duration'] = data['fire_Duration'].dt.total_seconds()/60/60/24\n",
    "\n",
    "data['fire_Duration'].sample(10)"
   ]
  },
  {
   "cell_type": "code",
   "execution_count": null,
   "id": "fdd11ca8",
   "metadata": {},
   "outputs": [],
   "source": [
    "# Calculate amount of time between fire containment and control in days and create new column\n",
    "data['containment_Control'] = data['irwin_ControlDateTime'] - data['irwin_ContainmentDateTime']\n",
    "data['containment_Control'] = data['containment_Control'].dt.total_seconds()/60/60/24\n",
    "\n",
    "data['containment_Control'].sample(10)"
   ]
  },
  {
   "cell_type": "code",
   "execution_count": null,
   "id": "732dcf8d",
   "metadata": {},
   "outputs": [],
   "source": [
    "# Impute missing values using K-Nearest Neighbors\n",
    "data['fire_Duration'] = imputer.fit_transform(data[['fire_Duration']])\n",
    "data['containment_Control'] = imputer.fit_transform(data[['containment_Control']])"
   ]
  },
  {
   "cell_type": "code",
   "execution_count": null,
   "id": "db9b841a",
   "metadata": {},
   "outputs": [],
   "source": [
    "# Creates year and month columns from Discovery Date Column \n",
    "data['Year'] = data['irwin_FireDiscoveryDateTime'].dt.year\n",
    "data['Month'] = data['irwin_FireDiscoveryDateTime'].dt.month"
   ]
  },
  {
   "cell_type": "markdown",
   "id": "e4629e3b",
   "metadata": {},
   "source": [
    "## Descriptive Statistics"
   ]
  },
  {
   "cell_type": "markdown",
   "id": "bcdb1ca7",
   "metadata": {},
   "source": [
    "Descriptive statistics will be used to conduct further exploration on several of the features in the dataset. These descriptive statistics include count, mean, median, minimum, maximum, standard deviation, and quartiles."
   ]
  },
  {
   "cell_type": "markdown",
   "id": "06e4ec56",
   "metadata": {},
   "source": [
    "<h3> Acres </h3>"
   ]
  },
  {
   "cell_type": "code",
   "execution_count": null,
   "id": "057d4af5",
   "metadata": {},
   "outputs": [],
   "source": [
    "# Descriptive statistics for acres\n",
    "data['poly_Acres_AutoCalc'].describe().apply(lambda x: format(x, 'f'))"
   ]
  },
  {
   "cell_type": "code",
   "execution_count": null,
   "id": "3cc3d694",
   "metadata": {},
   "outputs": [],
   "source": [
    "# Median for acres\n",
    "median = data['poly_Acres_AutoCalc'].median()\n",
    "print('median', round(median, 6))"
   ]
  },
  {
   "cell_type": "code",
   "execution_count": null,
   "id": "f50e7efa",
   "metadata": {},
   "outputs": [],
   "source": [
    "# Total number of acres\n",
    "data['poly_Acres_AutoCalc'].sum()"
   ]
  },
  {
   "cell_type": "markdown",
   "id": "fd6024cb",
   "metadata": {},
   "source": [
    "<h3> Discovery Acres </h3>"
   ]
  },
  {
   "cell_type": "code",
   "execution_count": null,
   "id": "51746028",
   "metadata": {},
   "outputs": [],
   "source": [
    "# Descriptive statistics for discovery acres\n",
    "data['irwin_DiscoveryAcres'].describe().apply(lambda x: format(x, 'f'))"
   ]
  },
  {
   "cell_type": "code",
   "execution_count": null,
   "id": "ccaaa20d",
   "metadata": {},
   "outputs": [],
   "source": [
    "# Median for discovery acres\n",
    "median = data['irwin_DiscoveryAcres'].median()\n",
    "print('median', round(median, 6))"
   ]
  },
  {
   "cell_type": "markdown",
   "id": "1af334bb",
   "metadata": {},
   "source": [
    "<h3> Daily Acres </h3>"
   ]
  },
  {
   "cell_type": "code",
   "execution_count": null,
   "id": "a9f21293",
   "metadata": {},
   "outputs": [],
   "source": [
    "# Descriptive statistics for daily acres\n",
    "data['irwin_DailyAcres'].describe().apply(lambda x: format(x, 'f'))"
   ]
  },
  {
   "cell_type": "code",
   "execution_count": null,
   "id": "bc988d17",
   "metadata": {},
   "outputs": [],
   "source": [
    "# Median for daily acres\n",
    "median = data['irwin_DailyAcres'].median()\n",
    "print('median', round(median, 6))"
   ]
  },
  {
   "cell_type": "markdown",
   "id": "5503e097",
   "metadata": {},
   "source": [
    "<h3> Fire Duration </h3>"
   ]
  },
  {
   "cell_type": "code",
   "execution_count": null,
   "id": "21f0e9c8",
   "metadata": {},
   "outputs": [],
   "source": [
    "# Descriptive statistics for fire duration \n",
    "data['fire_Duration'].describe()"
   ]
  },
  {
   "cell_type": "code",
   "execution_count": null,
   "id": "7a6608e7",
   "metadata": {},
   "outputs": [],
   "source": [
    "# Median for fire duration\n",
    "median = data['fire_Duration'].median()\n",
    "print('median', round(median, 6))"
   ]
  },
  {
   "cell_type": "markdown",
   "id": "cfb6795d",
   "metadata": {},
   "source": [
    "<h3> Time Between Control & Containment of Fire </h3>"
   ]
  },
  {
   "cell_type": "code",
   "execution_count": null,
   "id": "e14fc8bc",
   "metadata": {},
   "outputs": [],
   "source": [
    "# Descriptive statistics for amount of time to control fire following containment\n",
    "data['containment_Control'].describe()"
   ]
  },
  {
   "cell_type": "code",
   "execution_count": null,
   "id": "ebd6d862",
   "metadata": {},
   "outputs": [],
   "source": [
    "# Median for amount of time to control fire following containment\n",
    "median = data['containment_Control'].median()\n",
    "print('median', round(median, 6))"
   ]
  },
  {
   "cell_type": "markdown",
   "id": "876e997f",
   "metadata": {},
   "source": [
    "## Aggregation & Pivot Tables"
   ]
  },
  {
   "cell_type": "code",
   "execution_count": null,
   "id": "afd6ba02",
   "metadata": {},
   "outputs": [],
   "source": [
    "# Pivot table reflecting total acreage and fire duration impacted by wildfire by state\n",
    "pivot = np.round(pd.pivot_table(data, values = ['poly_Acres_AutoCalc', 'fire_Duration'], \n",
    "                                index = ['State'], \n",
    "                                aggfunc = np.sum,\n",
    "                                fill_value = 0),2)\n",
    "                                \n",
    "pivot = pivot.reindex(pivot['poly_Acres_AutoCalc'].sort_values(ascending = False).index)\n",
    "\n",
    "pivot.style.bar(color = '#33B6CB')"
   ]
  },
  {
   "cell_type": "code",
   "execution_count": null,
   "id": "e2ff15ad",
   "metadata": {},
   "outputs": [],
   "source": [
    "# Pivot Table showing average fire duration and acres by state\n",
    "pivot = np.round(pd.pivot_table(data, values=['poly_Acres_AutoCalc', 'fire_Duration'], \n",
    "                                index=['State'], \n",
    "                                aggfunc=np.mean,\n",
    "                                fill_value=0),2)\n",
    "                                \n",
    "pivot = pivot.reindex(pivot['poly_Acres_AutoCalc'].sort_values(ascending=False).index)\n",
    "\n",
    "pivot.style.bar(color='#d65f5f')"
   ]
  },
  {
   "cell_type": "markdown",
   "id": "860090a1",
   "metadata": {},
   "source": [
    "Per the pivot tables, Arizona had the greatest total number of days wherein a wildfire was present, whereas California had the greatest total number of acreage burned. Conversely, Vermont had both the least total number of days of wildfire activity and the least number of acreage impacted."
   ]
  },
  {
   "cell_type": "code",
   "execution_count": null,
   "id": "e3c88043",
   "metadata": {},
   "outputs": [],
   "source": [
    "# Pivot Table of mean, median, and sum of Fire_Duration and Acres by year\n",
    "# 2016 - 2019 excluded from the table\n",
    "np.round(pd.pivot_table((data[data['Year'].isin([2020,2021,2022])]), values=['poly_Acres_AutoCalc','fire_Duration'], \n",
    "                                index=['Year'], \n",
    "                                aggfunc=[np.mean, np.median, np.sum],\n",
    "                                fill_value=0),2)"
   ]
  },
  {
   "cell_type": "markdown",
   "id": "2ab05996",
   "metadata": {},
   "source": [
    "The following observations can be made from the above pivot table:\n",
    "\n",
    "* 2020 had the highest mean acreage impacted yet the lowest mean, median, and total fire duration\n",
    "* 2021 had the highest mean fire duration, total fire duation, and total acreage impacted but the lowest mean and median acreage impacted\n",
    "* 2022 had the highest median fire duration yet the lowest total acreage impacted"
   ]
  },
  {
   "cell_type": "code",
   "execution_count": null,
   "id": "3aa9de1e",
   "metadata": {},
   "outputs": [],
   "source": [
    "# Pivot Table of mean, median, and sum of Fire_Duration and Acres by year and month\n",
    "# 2016 - 2019 excluded from the table\n",
    "np.round(pd.pivot_table((data[data['Year'].isin([2020,2021,2022])]), values=['poly_Acres_AutoCalc','fire_Duration'], \n",
    "                                index=['Year', 'Month'], \n",
    "                                aggfunc=[np.mean, np.median, np.sum],\n",
    "                                fill_value=0),2)"
   ]
  },
  {
   "cell_type": "markdown",
   "id": "fa8b2bf8",
   "metadata": {},
   "source": [
    "The following observations can be made from the above pivot table:\n",
    "\n",
    "<p> 2020 </p>\n",
    "<ul>\n",
    "<li>September 2020 had the highest mean fire duration and acreage impacted, whereas April 2020 had the lowest</li>\n",
    "<li>December 2020 had the highest median fire duration, whereas February 2020 had the highest median acreage impacted</li>\n",
    "<li>July 2020 had the lowest median fire duration and May 2020 had the lowest median acreage impacted</li>\n",
    "<li>August 2020 had the highest total fire duration and acreage impacted</li>\n",
    "</ul>\n",
    "<p> 2021 </p>\n",
    "<ul>\n",
    "<li>January had the lowest total fire duration and April 2021 had the lowest total acreage impacted</li>\n",
    "<li>July 2021 had the highest mean fire duration and acreage impacted, while January 2021 had the lowest mean fire duration and November 2021 had the lowest mean acreage impacted</li>\n",
    "<li>November 2021 had the highest median fire duration and December 2021 had the highest median acreage impacted</li>\n",
    "<li>May 2021 had the lowest median fire duration and acreage impacted</li>\n",
    "<li>July 2021 had the highest total fire duration and acreage impacted</li>\n",
    "<li>January 2021 had the lowest total fire duration and November 2021 had the lowest total acreage impacted </li>\n",
    "</ul>\n",
    "<p> 2022 </p>\n",
    "<ul>\n",
    "<li>February 2022 had the highest mean fire duration and June 2022 had the highest mean acreage impacted</li>\n",
    "<li>September 2022 had the lowest mean and median fire duration and January 2022 had the lowest mean acreage impacted, total fire duration, and total acreage impacted</li>\n",
    "</ul>"
   ]
  },
  {
   "cell_type": "markdown",
   "id": "be0ad4c4",
   "metadata": {},
   "source": [
    "## Cross Tabulation & Countplots"
   ]
  },
  {
   "cell_type": "code",
   "execution_count": null,
   "id": "d7ac1c73",
   "metadata": {},
   "outputs": [],
   "source": [
    "# Pandas cross tabulate: fire cause by state\n",
    "cause_state_table = pd.crosstab(data.irwin_FireCause, data.State)\n",
    "cause_state_table"
   ]
  },
  {
   "cell_type": "code",
   "execution_count": null,
   "id": "ad3ebe02",
   "metadata": {},
   "outputs": [],
   "source": [
    "# Countplot - fires per state\n",
    "sns.set(rc={\"figure.figsize\":(20, 10)}) \n",
    "ax = sns.countplot(x='State', data=data, order = data['State'].value_counts().index)\n",
    "plt.title('Number of Fires Per State', fontsize=20)\n",
    "plt.show()"
   ]
  },
  {
   "cell_type": "markdown",
   "id": "edcea35e",
   "metadata": {},
   "source": [
    "From the plot, it is apparent that Montana had the most wildfires, while New Jersey had the least."
   ]
  },
  {
   "cell_type": "code",
   "execution_count": null,
   "id": "3f0bfbf4",
   "metadata": {},
   "outputs": [],
   "source": [
    "# Countplot - fire cause\n",
    "sns.set(rc={\"figure.figsize\":(20, 10)}) \n",
    "ax = sns.countplot(x='irwin_FireCause', data=data, order = data['irwin_FireCause'].value_counts().index)\n",
    "plt.title('Number of Fires Per Cause', fontsize=20)\n",
    "plt.xlabel('Fire Cause')\n",
    "plt.show()"
   ]
  },
  {
   "cell_type": "markdown",
   "id": "d6fc7846",
   "metadata": {},
   "source": [
    "The fire cauase count plot indicated that most of the wildfires were caused by humans. An unknown cause accounted for the fewest number of wildfires."
   ]
  },
  {
   "cell_type": "code",
   "execution_count": null,
   "id": "5f549f67",
   "metadata": {
    "scrolled": false
   },
   "outputs": [],
   "source": [
    "# Countplot - fires per state\n",
    "sns.set(rc={\"figure.figsize\":(20, 10)}) \n",
    "ax = sns.countplot(x='State', data=data, hue='irwin_FireCause', order = data['State'].value_counts().index)\n",
    "plt.title('Fire Causes Per State', fontsize=20)\n",
    "plt.legend(title='Fire Cause', loc='upper right')\n",
    "plt.show()"
   ]
  },
  {
   "cell_type": "markdown",
   "id": "a11c3452",
   "metadata": {},
   "source": [
    "Wildfires in all but three states could be primarily attributed to human causes. Alaska and Oregon's primary cause of wildfires was deemed natural, while Texas's primary cause was undetermined."
   ]
  },
  {
   "cell_type": "code",
   "execution_count": null,
   "id": "684bafe2",
   "metadata": {},
   "outputs": [],
   "source": [
    "# countplot - fire cause counts per year\n",
    "# 2016 - 2019 excluded from the table\n",
    "sns.set(rc={\"figure.figsize\":(20, 10)}) \n",
    "ax = sns.countplot(x='Year', hue='irwin_FireCause', data=(data[data['Year'].isin([2020,2021,2022])]))\n",
    "plt.title('Fire Cause Counts Per Year', fontsize=20)\n",
    "plt.show()"
   ]
  },
  {
   "cell_type": "markdown",
   "id": "43f3a2aa",
   "metadata": {},
   "source": [
    "Human-caused fires made up the majority of fires for each year."
   ]
  },
  {
   "cell_type": "markdown",
   "id": "c5b13cc7",
   "metadata": {},
   "source": [
    "## Bar Plots"
   ]
  },
  {
   "cell_type": "markdown",
   "id": "2aa123d9",
   "metadata": {},
   "source": [
    "The following bar plots visually illustrate the results of the pivot tables above."
   ]
  },
  {
   "cell_type": "code",
   "execution_count": null,
   "id": "7373e2a8",
   "metadata": {},
   "outputs": [],
   "source": [
    "# Bar plot of mean fire_duration by state\n",
    "plot_order = data.groupby([\"State\"])['fire_Duration'].aggregate(np.mean).reset_index().sort_values('fire_Duration')\n",
    "ax = sns.barplot(data=data,\n",
    "            x='State',\n",
    "            y='fire_Duration',\n",
    "            estimator = np.mean,\n",
    "            color = 'steelblue',\n",
    "            ci=None,\n",
    "            order = plot_order['State'])\n",
    "plt.title('Mean Fire Duration Per State', fontsize=20)\n",
    "plt.show()"
   ]
  },
  {
   "cell_type": "code",
   "execution_count": null,
   "id": "32a27853",
   "metadata": {},
   "outputs": [],
   "source": [
    "# Bar plot of mean acres by state\n",
    "plot_order = data.groupby([\"State\"])['poly_Acres_AutoCalc'].aggregate(np.mean).reset_index().sort_values('poly_Acres_AutoCalc')\n",
    "ax = sns.barplot(data=data,\n",
    "            x='State',\n",
    "            y='poly_Acres_AutoCalc',\n",
    "            estimator = np.mean,\n",
    "            color = 'darkseagreen',\n",
    "            ci=None,\n",
    "            order = plot_order['State'])\n",
    "plt.title('Mean Acres Burned Per State', fontsize=20)\n",
    "plt.show()"
   ]
  },
  {
   "cell_type": "code",
   "execution_count": null,
   "id": "890969c8",
   "metadata": {},
   "outputs": [],
   "source": [
    "# Bar plot of total fire_duration by state\n",
    "plot_order = data.groupby([\"State\"])['fire_Duration'].aggregate(np.sum).reset_index().sort_values('fire_Duration')\n",
    "ax = sns.barplot(data = data,\n",
    "            x = 'State',\n",
    "            y = 'fire_Duration',\n",
    "            estimator = np.sum,\n",
    "            color = 'purple',\n",
    "            ci = None,\n",
    "            order = plot_order['State'])\n",
    "plt.title('Total Fire Duration by State', fontsize = 20)\n",
    "plt.show()"
   ]
  },
  {
   "cell_type": "code",
   "execution_count": null,
   "id": "45dac53d",
   "metadata": {},
   "outputs": [],
   "source": [
    "# Bar plot of total acres by state\n",
    "plot_order = data.groupby([\"State\"])['poly_Acres_AutoCalc'].aggregate(np.sum).reset_index().sort_values('poly_Acres_AutoCalc')\n",
    "ax = sns.barplot(data = data,\n",
    "            x = 'State',\n",
    "            y = 'poly_Acres_AutoCalc',\n",
    "            estimator = np.sum,\n",
    "            color = 'lightcoral',\n",
    "            ci=None,\n",
    "            order = plot_order['State'])\n",
    "plt.title('Total Acres Burned by State', fontsize=20)\n",
    "plt.show()"
   ]
  },
  {
   "cell_type": "markdown",
   "id": "dce6d20a",
   "metadata": {},
   "source": [
    "## Correlation"
   ]
  },
  {
   "cell_type": "code",
   "execution_count": null,
   "id": "84963e5c",
   "metadata": {},
   "outputs": [],
   "source": [
    "# Correlation between state and fire cause\n",
    "data['State'] = oe.fit_transform(data[['State']]) \n",
    "data['irwin_FireCause'] = oe.fit_transform(data[['irwin_FireCause']])\n",
    "data['State'].corr(data['irwin_FireCause'])"
   ]
  },
  {
   "cell_type": "code",
   "execution_count": null,
   "id": "a07f29c4",
   "metadata": {},
   "outputs": [],
   "source": [
    "# Correlation between state and acreage\n",
    "data['State'].corr(data['poly_Acres_AutoCalc'])"
   ]
  },
  {
   "cell_type": "code",
   "execution_count": null,
   "id": "29b292cc",
   "metadata": {},
   "outputs": [],
   "source": [
    "# Correlation between state and fire duration\n",
    "data['State'].corr(data['fire_Duration'])"
   ]
  },
  {
   "cell_type": "markdown",
   "id": "fa0d49ea",
   "metadata": {},
   "source": [
    "There does not appear to be any correlation between the state, fire cause, acreage impacted, nor duration of the wildfire."
   ]
  },
  {
   "cell_type": "markdown",
   "id": "d6ba238d",
   "metadata": {},
   "source": [
    "## Map Visuals"
   ]
  },
  {
   "cell_type": "code",
   "execution_count": null,
   "id": "3d85a07c",
   "metadata": {},
   "outputs": [],
   "source": [
    "# Plotly - Fire Cause\n",
    "fig = px.scatter_mapbox(data, lat=\"irwin_InitialLatitude\", lon=\"irwin_InitialLongitude\", hover_name=\"irwin_FireCause\", hover_data=[\"irwin_InitialLatitude\", \"irwin_InitialLongitude\"],\n",
    "                        color=\"irwin_FireCause\", zoom=5, height=500)\n",
    "fig.update_layout(mapbox_style=\"carto-positron\")\n",
    "fig.update_layout(margin={\"r\":0,\"t\":0,\"l\":0,\"b\":0})\n",
    "fig.show()"
   ]
  },
  {
   "cell_type": "code",
   "execution_count": null,
   "id": "1fde7450",
   "metadata": {},
   "outputs": [],
   "source": [
    "# Heat Map using Folium\n",
    "\n",
    "heat_map = folium.Map(location=[48, -102],\n",
    "                    zoom_start = 10, min_zoom=1) \n",
    "\n",
    "heat_df = data[['irwin_InitialLatitude', 'irwin_InitialLongitude']]\n",
    "heat_df = heat_df.dropna(axis=0, subset=['irwin_InitialLatitude','irwin_InitialLongitude'])\n",
    "\n",
    "heat_data = [[row['irwin_InitialLatitude'],row['irwin_InitialLongitude']] for index, row in heat_df.iterrows()]\n",
    "\n",
    "HeatMap(heat_data, radius=10).add_to(heat_map)\n",
    "\n",
    "heat_map"
   ]
  },
  {
   "cell_type": "markdown",
   "id": "5d36c094",
   "metadata": {},
   "source": [
    "## Future Directions"
   ]
  },
  {
   "cell_type": "markdown",
   "id": "12dfc9c4",
   "metadata": {},
   "source": [
    "Further analysis could be conducted and additional datasets utilized in order to extend the results of current analysis. \n",
    "\n",
    "* The incorporation of climate/weather data would allow for exploration into the relationship between wildfire activity and aspects of climate/weather such as temperature, humidity, wind speed, wind direction, and precipitation\n",
    "* Further and more detailed visualization of the dataset could be obtain by plotting the size and shape of each wildfire at its respective location\n",
    "* Predictive models could be developed to determine future wildfire location, duration, and severity, which has the potential to inform wildfire prevention and containment\n",
    "* The present analysis could be employed to influence wildfire awareness and safety education"
   ]
  },
  {
   "cell_type": "code",
   "execution_count": null,
   "id": "12fbd11f",
   "metadata": {},
   "outputs": [],
   "source": []
  }
 ],
 "metadata": {
  "kernelspec": {
   "display_name": "Python 3 (ipykernel)",
   "language": "python",
   "name": "python3"
  },
  "language_info": {
   "codemirror_mode": {
    "name": "ipython",
    "version": 3
   },
   "file_extension": ".py",
   "mimetype": "text/x-python",
   "name": "python",
   "nbconvert_exporter": "python",
   "pygments_lexer": "ipython3",
   "version": "3.9.7"
  }
 },
 "nbformat": 4,
 "nbformat_minor": 5
}
